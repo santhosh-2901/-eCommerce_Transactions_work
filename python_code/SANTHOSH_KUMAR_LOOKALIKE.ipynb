{
 "cells": [
  {
   "cell_type": "code",
   "execution_count": 1,
   "metadata": {},
   "outputs": [],
   "source": [
    "import pandas as pd\n",
    "import numpy as np\n",
    "from sklearn.metrics.pairwise import cosine_similarity\n",
    "from sklearn.preprocessing import StandardScaler, OneHotEncoder\n",
    "from sklearn.compose import ColumnTransformer\n",
    "from sklearn.cluster import KMeans\n",
    "import matplotlib.pyplot as plt\n",
    "from sklearn.metrics import davies_bouldin_score\n",
    "\n"
   ]
  },
  {
   "cell_type": "code",
   "execution_count": 2,
   "metadata": {},
   "outputs": [],
   "source": [
    "# Load datasets\n",
    "customers = pd.read_csv(\"C:/Users/santh/Downloads/Customers.csv\")\n",
    "products = pd.read_csv('C:/Users/santh/Downloads/Products.csv')\n",
    "transactions = pd.read_csv('C:/Users/santh/Downloads/Transactions.csv')\n"
   ]
  },
  {
   "cell_type": "code",
   "execution_count": 3,
   "metadata": {},
   "outputs": [],
   "source": [
    "# Merge datasets\n",
    "merged_data = transactions.merge(customers, on='CustomerID').merge(products, on='ProductID')\n"
   ]
  },
  {
   "cell_type": "code",
   "execution_count": 4,
   "metadata": {},
   "outputs": [
    {
     "name": "stdout",
     "output_type": "stream",
     "text": [
      "Lookalike.csv created.\n"
     ]
    }
   ],
   "source": [
    "\n",
    "customer_features = merged_data.groupby('CustomerID').agg({\n",
    "    'TotalValue': 'sum',\n",
    "    'Quantity': 'sum',\n",
    "    'Price_x': 'mean',\n",
    "    'Category': lambda x: ','.join(x),  # Concatenate product categories\n",
    "    'Region': 'first'  # Region is the same for a customer\n",
    "}).reset_index()\n",
    "\n",
    "# One-Hot Encoding for categorical features\n",
    "categorical_features = ['Region']\n",
    "encoder = OneHotEncoder()\n",
    "encoded_cats = encoder.fit_transform(customer_features[categorical_features]).toarray()\n",
    "\n",
    "numerical_features = ['TotalValue', 'Quantity', 'Price_x']\n",
    "scaler = StandardScaler()\n",
    "scaled_nums = scaler.fit_transform(customer_features[numerical_features])\n",
    "\n",
    "feature_matrix = np.hstack([scaled_nums, encoded_cats])\n",
    "\n",
    "similarity_matrix = cosine_similarity(feature_matrix)\n",
    "\n",
    "lookalikes = {}\n",
    "for i, customer_id in enumerate(customer_features['CustomerID'][:20]):\n",
    "    similarities = list(enumerate(similarity_matrix[i]))\n",
    "    similarities = sorted(similarities, key=lambda x: -x[1])[1:4]  # Exclude self (top 3 similar customers)\n",
    "    lookalikes[customer_id] = [(customer_features['CustomerID'][j], round(score, 2)) for j, score in similarities]\n",
    "\n",
    "\n",
    "lookalike_df = pd.DataFrame({\n",
    "    'CustomerID': list(lookalikes.keys()),\n",
    "    'Lookalikes': [str(val) for val in lookalikes.values()]\n",
    "})\n",
    "lookalike_df.to_csv('C:/Users/Santh/Downloads/Lookalike.csv', index=False)\n",
    "print(\"Lookalike.csv created.\")\n",
    "\n",
    "\n",
    "\n"
   ]
  }
 ],
 "metadata": {
  "kernelspec": {
   "display_name": "Python 3",
   "language": "python",
   "name": "python3"
  },
  "language_info": {
   "codemirror_mode": {
    "name": "ipython",
    "version": 3
   },
   "file_extension": ".py",
   "mimetype": "text/x-python",
   "name": "python",
   "nbconvert_exporter": "python",
   "pygments_lexer": "ipython3",
   "version": "3.12.8"
  }
 },
 "nbformat": 4,
 "nbformat_minor": 2
}
